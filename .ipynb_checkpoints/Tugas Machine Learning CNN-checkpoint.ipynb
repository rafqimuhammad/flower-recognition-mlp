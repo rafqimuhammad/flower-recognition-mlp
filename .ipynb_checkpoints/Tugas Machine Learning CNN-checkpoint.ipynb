{
 "cells": [
  {
   "cell_type": "code",
   "execution_count": 1,
   "metadata": {},
   "outputs": [],
   "source": [
    "import os\n",
    "import random\n",
    "import cv2\n",
    "import numpy as np\n",
    "import tensorflow as tf\n",
    "import glob\n",
    "import matplotlib.pyplot as plt\n",
    "from sklearn.model_selection import train_test_split as split\n",
    "from keras.optimizers import Adam\n",
    "from keras.preprocessing.image import ImageDataGenerator"
   ]
  },
  {
   "cell_type": "code",
   "execution_count": 2,
   "metadata": {},
   "outputs": [],
   "source": [
    "data_dir = 'flowers'\n",
    "\n",
    "train_dir = os.path.join(data_dir, 'Training')\n",
    "test_dir = os.path.join(data_dir, 'Testing')"
   ]
  },
  {
   "cell_type": "code",
   "execution_count": 3,
   "metadata": {},
   "outputs": [
    {
     "name": "stdout",
     "output_type": "stream",
     "text": [
      "Found 240 images belonging to 3 classes.\n"
     ]
    }
   ],
   "source": [
    "train_datagen = ImageDataGenerator(\n",
    "      rescale=1./255,\n",
    "      rotation_range=40,\n",
    "      width_shift_range=0.2,\n",
    "      height_shift_range=0.2,\n",
    "      shear_range=0.2,\n",
    "      zoom_range=0.2,\n",
    "      horizontal_flip=True,\n",
    "      fill_mode='nearest')\n",
    "\n",
    "train_generator = train_datagen.flow_from_directory(\n",
    "        train_dir,  # This is the source directory for training images\n",
    "        target_size=(320,240),  # All images will be resized to 150x150\n",
    "        batch_size=20,\n",
    "        color_mode=\"grayscale\",\n",
    "        class_mode='categorical')"
   ]
  },
  {
   "cell_type": "code",
   "execution_count": 4,
   "metadata": {},
   "outputs": [
    {
     "name": "stdout",
     "output_type": "stream",
     "text": [
      "Found 60 images belonging to 3 classes.\n"
     ]
    }
   ],
   "source": [
    "test_datagen = ImageDataGenerator(rescale=1./255)\n",
    "\n",
    "test_generator = test_datagen.flow_from_directory(\n",
    "        test_dir,\n",
    "        target_size=(320,240),\n",
    "        batch_size=20,\n",
    "        color_mode=\"grayscale\",\n",
    "        class_mode='categorical')"
   ]
  },
  {
   "cell_type": "code",
   "execution_count": 11,
   "metadata": {},
   "outputs": [
    {
     "name": "stdout",
     "output_type": "stream",
     "text": [
      "Model: \"sequential_1\"\n",
      "_________________________________________________________________\n",
      "Layer (type)                 Output Shape              Param #   \n",
      "=================================================================\n",
      "conv2d_2 (Conv2D)            (None, 316, 236, 32)      832       \n",
      "_________________________________________________________________\n",
      "max_pooling2d_2 (MaxPooling2 (None, 158, 118, 32)      0         \n",
      "_________________________________________________________________\n",
      "conv2d_3 (Conv2D)            (None, 154, 114, 64)      51264     \n",
      "_________________________________________________________________\n",
      "max_pooling2d_3 (MaxPooling2 (None, 77, 57, 64)        0         \n",
      "_________________________________________________________________\n",
      "flatten_1 (Flatten)          (None, 280896)            0         \n",
      "_________________________________________________________________\n",
      "dense_2 (Dense)              (None, 256)               71909632  \n",
      "_________________________________________________________________\n",
      "dropout_1 (Dropout)          (None, 256)               0         \n",
      "_________________________________________________________________\n",
      "dense_3 (Dense)              (None, 3)                 771       \n",
      "=================================================================\n",
      "Total params: 71,962,499\n",
      "Trainable params: 71,962,499\n",
      "Non-trainable params: 0\n",
      "_________________________________________________________________\n"
     ]
    }
   ],
   "source": [
    "model1 = tf.keras.models.Sequential([\n",
    "    tf.keras.layers.Conv2D(32, (5,5), activation='relu', input_shape=(320,240,1)),\n",
    "    tf.keras.layers.MaxPooling2D(2,2),\n",
    "    tf.keras.layers.Conv2D(64, (5,5), activation='relu'),\n",
    "    tf.keras.layers.MaxPooling2D(2,2),\n",
    "    tf.keras.layers.Flatten(),\n",
    "    tf.keras.layers.Dense(256, activation='relu'),\n",
    "    tf.keras.layers.Dropout(0.3),\n",
    "    tf.keras.layers.Dense(3, activation='softmax')\n",
    "])\n",
    "model1.summary()"
   ]
  },
  {
   "cell_type": "code",
   "execution_count": 12,
   "metadata": {},
   "outputs": [],
   "source": [
    "model1.compile(optimizer=Adam(lr=0.1),\n",
    "              loss='categorical_crossentropy', \n",
    "              metrics=['accuracy'])"
   ]
  },
  {
   "cell_type": "code",
   "execution_count": 38,
   "metadata": {},
   "outputs": [
    {
     "name": "stdout",
     "output_type": "stream",
     "text": [
      "Epoch 1/50\n",
      "12/12 [==============================] - 18s 2s/step - loss: 1.1018 - accuracy: 0.2917 - val_loss: 1.0989 - val_accuracy: 0.3333\n",
      "Epoch 2/50\n",
      "12/12 [==============================] - 17s 1s/step - loss: 1.1032 - accuracy: 0.2708 - val_loss: 1.0988 - val_accuracy: 0.3333\n",
      "Epoch 3/50\n",
      "12/12 [==============================] - 14s 1s/step - loss: 1.1042 - accuracy: 0.3167 - val_loss: 1.1009 - val_accuracy: 0.3333\n",
      "Epoch 4/50\n",
      "12/12 [==============================] - 15s 1s/step - loss: 1.1006 - accuracy: 0.3292 - val_loss: 1.0991 - val_accuracy: 0.3333\n",
      "Epoch 5/50\n",
      "12/12 [==============================] - 15s 1s/step - loss: 1.1041 - accuracy: 0.3417 - val_loss: 1.1019 - val_accuracy: 0.3333\n",
      "Epoch 6/50\n",
      "12/12 [==============================] - 15s 1s/step - loss: 1.1048 - accuracy: 0.3208 - val_loss: 1.1000 - val_accuracy: 0.3333\n",
      "Epoch 7/50\n",
      "12/12 [==============================] - 15s 1s/step - loss: 1.1008 - accuracy: 0.3333 - val_loss: 1.0989 - val_accuracy: 0.3333\n",
      "Epoch 8/50\n",
      "12/12 [==============================] - 15s 1s/step - loss: 1.1013 - accuracy: 0.2875 - val_loss: 1.0986 - val_accuracy: 0.3333\n",
      "Epoch 9/50\n",
      "12/12 [==============================] - 15s 1s/step - loss: 1.1007 - accuracy: 0.3125 - val_loss: 1.0991 - val_accuracy: 0.3333\n",
      "Epoch 10/50\n",
      "12/12 [==============================] - 15s 1s/step - loss: 1.1006 - accuracy: 0.3292 - val_loss: 1.0988 - val_accuracy: 0.3333\n",
      "Epoch 11/50\n",
      "12/12 [==============================] - 16s 1s/step - loss: 1.1054 - accuracy: 0.3125 - val_loss: 1.1003 - val_accuracy: 0.3333\n",
      "Epoch 12/50\n",
      "12/12 [==============================] - 16s 1s/step - loss: 1.1016 - accuracy: 0.3250 - val_loss: 1.1014 - val_accuracy: 0.3333\n",
      "Epoch 13/50\n",
      "12/12 [==============================] - 16s 1s/step - loss: 1.1048 - accuracy: 0.3083 - val_loss: 1.0992 - val_accuracy: 0.3333\n",
      "Epoch 14/50\n",
      "12/12 [==============================] - 16s 1s/step - loss: 1.1005 - accuracy: 0.3333 - val_loss: 1.0989 - val_accuracy: 0.3333\n",
      "Epoch 15/50\n",
      "12/12 [==============================] - 16s 1s/step - loss: 1.1006 - accuracy: 0.3042 - val_loss: 1.0988 - val_accuracy: 0.3333\n",
      "Epoch 16/50\n",
      "12/12 [==============================] - 15s 1s/step - loss: 1.1063 - accuracy: 0.2917 - val_loss: 1.0993 - val_accuracy: 0.3333\n",
      "Epoch 17/50\n",
      "12/12 [==============================] - 15s 1s/step - loss: 1.1056 - accuracy: 0.2958 - val_loss: 1.0996 - val_accuracy: 0.3333\n",
      "Epoch 18/50\n",
      "12/12 [==============================] - 15s 1s/step - loss: 1.1008 - accuracy: 0.3333 - val_loss: 1.0991 - val_accuracy: 0.3333\n",
      "Epoch 19/50\n",
      "12/12 [==============================] - 15s 1s/step - loss: 1.0993 - accuracy: 0.3417 - val_loss: 1.0995 - val_accuracy: 0.3333\n",
      "Epoch 20/50\n",
      "12/12 [==============================] - 15s 1s/step - loss: 1.1025 - accuracy: 0.2875 - val_loss: 1.0990 - val_accuracy: 0.3333\n",
      "Epoch 21/50\n",
      "12/12 [==============================] - 15s 1s/step - loss: 1.1001 - accuracy: 0.2958 - val_loss: 1.0990 - val_accuracy: 0.3333\n",
      "Epoch 22/50\n",
      "12/12 [==============================] - 15s 1s/step - loss: 1.1022 - accuracy: 0.2917 - val_loss: 1.0987 - val_accuracy: 0.3333\n",
      "Epoch 23/50\n",
      "12/12 [==============================] - 15s 1s/step - loss: 1.1001 - accuracy: 0.2458 - val_loss: 1.0993 - val_accuracy: 0.3333\n",
      "Epoch 24/50\n",
      "12/12 [==============================] - 15s 1s/step - loss: 1.1029 - accuracy: 0.3333 - val_loss: 1.0997 - val_accuracy: 0.3333\n",
      "Epoch 25/50\n",
      "12/12 [==============================] - 15s 1s/step - loss: 1.1070 - accuracy: 0.2917 - val_loss: 1.0998 - val_accuracy: 0.3333\n",
      "Epoch 26/50\n",
      "12/12 [==============================] - 15s 1s/step - loss: 1.1028 - accuracy: 0.2583 - val_loss: 1.0996 - val_accuracy: 0.3333\n",
      "Epoch 27/50\n",
      "12/12 [==============================] - 15s 1s/step - loss: 1.1011 - accuracy: 0.3333 - val_loss: 1.0987 - val_accuracy: 0.3333\n",
      "Epoch 28/50\n",
      "12/12 [==============================] - 15s 1s/step - loss: 1.1080 - accuracy: 0.3042 - val_loss: 1.1007 - val_accuracy: 0.3333\n",
      "Epoch 29/50\n",
      "12/12 [==============================] - 16s 1s/step - loss: 1.1110 - accuracy: 0.2875 - val_loss: 1.1001 - val_accuracy: 0.3333\n",
      "Epoch 30/50\n",
      "12/12 [==============================] - 15s 1s/step - loss: 1.1000 - accuracy: 0.3167 - val_loss: 1.1002 - val_accuracy: 0.3333\n",
      "Epoch 31/50\n",
      "12/12 [==============================] - 15s 1s/step - loss: 1.1060 - accuracy: 0.3333 - val_loss: 1.1007 - val_accuracy: 0.3333\n",
      "Epoch 32/50\n",
      "12/12 [==============================] - 15s 1s/step - loss: 1.1007 - accuracy: 0.3250 - val_loss: 1.0992 - val_accuracy: 0.3333\n",
      "Epoch 33/50\n",
      "12/12 [==============================] - 15s 1s/step - loss: 1.1026 - accuracy: 0.3333 - val_loss: 1.0987 - val_accuracy: 0.3333\n",
      "Epoch 34/50\n",
      "12/12 [==============================] - 15s 1s/step - loss: 1.1063 - accuracy: 0.2875 - val_loss: 1.0998 - val_accuracy: 0.3333\n",
      "Epoch 35/50\n",
      "12/12 [==============================] - 15s 1s/step - loss: 1.1031 - accuracy: 0.2500 - val_loss: 1.0998 - val_accuracy: 0.3333\n",
      "Epoch 36/50\n",
      "12/12 [==============================] - 15s 1s/step - loss: 1.1043 - accuracy: 0.3000 - val_loss: 1.0996 - val_accuracy: 0.3333\n",
      "Epoch 37/50\n",
      "12/12 [==============================] - 15s 1s/step - loss: 1.1011 - accuracy: 0.3333 - val_loss: 1.0986 - val_accuracy: 0.3333\n",
      "Epoch 38/50\n",
      "12/12 [==============================] - 15s 1s/step - loss: 1.1079 - accuracy: 0.2958 - val_loss: 1.1000 - val_accuracy: 0.3333\n",
      "Epoch 39/50\n",
      "12/12 [==============================] - 15s 1s/step - loss: 1.1031 - accuracy: 0.3083 - val_loss: 1.1010 - val_accuracy: 0.3333\n",
      "Epoch 40/50\n",
      "12/12 [==============================] - 16s 1s/step - loss: 1.1046 - accuracy: 0.3125 - val_loss: 1.1005 - val_accuracy: 0.3333\n",
      "Epoch 41/50\n",
      "12/12 [==============================] - 15s 1s/step - loss: 1.1015 - accuracy: 0.3250 - val_loss: 1.1000 - val_accuracy: 0.3333\n",
      "Epoch 42/50\n",
      "12/12 [==============================] - 15s 1s/step - loss: 1.1048 - accuracy: 0.3083 - val_loss: 1.0988 - val_accuracy: 0.3333\n",
      "Epoch 43/50\n",
      "12/12 [==============================] - 15s 1s/step - loss: 1.1034 - accuracy: 0.3208 - val_loss: 1.0996 - val_accuracy: 0.3333\n",
      "Epoch 44/50\n",
      "12/12 [==============================] - 15s 1s/step - loss: 1.1042 - accuracy: 0.3208 - val_loss: 1.0990 - val_accuracy: 0.3333\n",
      "Epoch 45/50\n",
      "12/12 [==============================] - 15s 1s/step - loss: 1.1053 - accuracy: 0.3333 - val_loss: 1.1008 - val_accuracy: 0.3333\n",
      "Epoch 46/50\n",
      "12/12 [==============================] - 16s 1s/step - loss: 1.1033 - accuracy: 0.3083 - val_loss: 1.1007 - val_accuracy: 0.3333\n",
      "Epoch 47/50\n",
      "12/12 [==============================] - 16s 1s/step - loss: 1.1074 - accuracy: 0.2583 - val_loss: 1.0998 - val_accuracy: 0.3333\n",
      "Epoch 48/50\n",
      "12/12 [==============================] - 16s 1s/step - loss: 1.1030 - accuracy: 0.3125 - val_loss: 1.0989 - val_accuracy: 0.3333\n",
      "Epoch 49/50\n",
      "12/12 [==============================] - 16s 1s/step - loss: 1.1066 - accuracy: 0.2708 - val_loss: 1.1005 - val_accuracy: 0.3333\n",
      "Epoch 50/50\n",
      "12/12 [==============================] - 15s 1s/step - loss: 1.1019 - accuracy: 0.3250 - val_loss: 1.1000 - val_accuracy: 0.3333\n"
     ]
    }
   ],
   "source": [
    "history = model1.fit(\n",
    "    train_generator,\n",
    "    epochs=50,\n",
    "    verbose=1,\n",
    "    validation_data=test_generator,\n",
    ")"
   ]
  },
  {
   "cell_type": "code",
   "execution_count": 41,
   "metadata": {},
   "outputs": [
    {
     "name": "stdout",
     "output_type": "stream",
     "text": [
      "0.3333333432674408\n",
      "0.32499998807907104\n"
     ]
    }
   ],
   "source": [
    "val_loss1 = history.history['val_loss']\n",
    "val_acc1 = history.history['val_accuracy']\n",
    "\n",
    "accuracy1 = history.history['accuracy']\n",
    "loss1 = history.history['loss']\n",
    "\n",
    "print(val_acc1[-1])\n",
    "print(accuracy1[-1])"
   ]
  },
  {
   "cell_type": "code",
   "execution_count": 42,
   "metadata": {},
   "outputs": [
    {
     "data": {
      "text/plain": [
       "<matplotlib.legend.Legend at 0x1d53906c9a0>"
      ]
     },
     "execution_count": 42,
     "metadata": {},
     "output_type": "execute_result"
    },
    {
     "data": {
      "image/png": "[encoded data removed]",
      "text/plain": [
       "<Figure size 432x288 with 1 Axes>"
      ]
     },
     "metadata": {
      "needs_background": "light"
     },
     "output_type": "display_data"
    },
    {
     "data": {
      "image/png": "[encoded data removed]",
      "text/plain": [
       "<Figure size 432x288 with 1 Axes>"
      ]
     },
     "metadata": {
      "needs_background": "light"
     },
     "output_type": "display_data"
    }
   ],
   "source": [
    "import matplotlib.pyplot as plt\n",
    "acc = accuracy1\n",
    "val_accuracy = val_acc1\n",
    "loss = loss1\n",
    "val_loss = val_loss1\n",
    "\n",
    "epochs = range(len(acc))\n",
    "\n",
    "plt.plot(epochs, acc, 'r', label='Training accuracy')\n",
    "plt.plot(epochs, val_accuracy, 'b', label='Validation accuracy')\n",
    "plt.title('Training and validation accuracy')\n",
    "\n",
    "plt.figure()\n",
    "\n",
    "plt.plot(epochs, loss, 'r', label='Training Loss')\n",
    "plt.plot(epochs, val_loss, 'b', label='Validation Loss')\n",
    "plt.title('Training and validation loss')\n",
    "plt.legend()"
   ]
  },
  {
   "cell_type": "code",
   "execution_count": 43,
   "metadata": {},
   "outputs": [
    {
     "name": "stdout",
     "output_type": "stream",
     "text": [
      "Model: \"sequential_3\"\n",
      "_________________________________________________________________\n",
      "Layer (type)                 Output Shape              Param #   \n",
      "=================================================================\n",
      "conv2d_6 (Conv2D)            (None, 316, 236, 32)      832       \n",
      "_________________________________________________________________\n",
      "max_pooling2d_6 (MaxPooling2 (None, 158, 118, 32)      0         \n",
      "_________________________________________________________________\n",
      "conv2d_7 (Conv2D)            (None, 154, 114, 64)      51264     \n",
      "_________________________________________________________________\n",
      "max_pooling2d_7 (MaxPooling2 (None, 77, 57, 64)        0         \n",
      "_________________________________________________________________\n",
      "flatten_3 (Flatten)          (None, 280896)            0         \n",
      "_________________________________________________________________\n",
      "dense_6 (Dense)              (None, 256)               71909632  \n",
      "_________________________________________________________________\n",
      "dropout_3 (Dropout)          (None, 256)               0         \n",
      "_________________________________________________________________\n",
      "dense_7 (Dense)              (None, 3)                 771       \n",
      "=================================================================\n",
      "Total params: 71,962,499\n",
      "Trainable params: 71,962,499\n",
      "Non-trainable params: 0\n",
      "_________________________________________________________________\n"
     ]
    }
   ],
   "source": [
    "model2 = tf.keras.models.Sequential([\n",
    "    tf.keras.layers.Conv2D(32, (5,5), activation='relu', input_shape=(320,240,1)),\n",
    "    tf.keras.layers.MaxPooling2D(2,2),\n",
    "    tf.keras.layers.Conv2D(64, (5,5), activation='relu'),\n",
    "    tf.keras.layers.MaxPooling2D(2,2),\n",
    "    tf.keras.layers.Flatten(),\n",
    "    tf.keras.layers.Dense(256, activation='relu'),\n",
    "    tf.keras.layers.Dropout(0.3),\n",
    "    tf.keras.layers.Dense(3, activation='softmax')\n",
    "])\n",
    "model2.summary()"
   ]
  },
  {
   "cell_type": "code",
   "execution_count": 44,
   "metadata": {},
   "outputs": [],
   "source": [
    "model2.compile(optimizer=Adam(lr=0.8),\n",
    "              loss='categorical_crossentropy',\n",
    "              metrics=['accuracy'])"
   ]
  },
  {
   "cell_type": "code",
   "execution_count": 45,
   "metadata": {},
   "outputs": [
    {
     "name": "stdout",
     "output_type": "stream",
     "text": [
      "Epoch 1/50\n",
      "12/12 [==============================] - 17s 1s/step - loss: 791512768.0000 - accuracy: 0.2958 - val_loss: 223005.5156 - val_accuracy: 0.3333\n",
      "Epoch 2/50\n",
      "12/12 [==============================] - 16s 1s/step - loss: 135871.2656 - accuracy: 0.3417 - val_loss: 30322.0879 - val_accuracy: 0.3333\n",
      "Epoch 3/50\n",
      "12/12 [==============================] - 15s 1s/step - loss: 24765.8477 - accuracy: 0.3792 - val_loss: 1.3408 - val_accuracy: 0.3333\n",
      "Epoch 4/50\n",
      "12/12 [==============================] - 16s 1s/step - loss: 1.3437 - accuracy: 0.3125 - val_loss: 1.1073 - val_accuracy: 0.3333\n",
      "Epoch 5/50\n",
      "12/12 [==============================] - 15s 1s/step - loss: 1.2017 - accuracy: 0.3208 - val_loss: 1.1338 - val_accuracy: 0.3333\n",
      "Epoch 6/50\n",
      "12/12 [==============================] - 16s 1s/step - loss: 1.1706 - accuracy: 0.2875 - val_loss: 1.1232 - val_accuracy: 0.3333\n",
      "Epoch 7/50\n",
      "12/12 [==============================] - 17s 1s/step - loss: 1.1274 - accuracy: 0.3333 - val_loss: 1.1160 - val_accuracy: 0.3333\n",
      "Epoch 8/50\n",
      "12/12 [==============================] - 18s 2s/step - loss: 1.1103 - accuracy: 0.3458 - val_loss: 1.1226 - val_accuracy: 0.3333\n",
      "Epoch 9/50\n",
      "12/12 [==============================] - 15s 1s/step - loss: 1.1284 - accuracy: 0.3458 - val_loss: 1.1534 - val_accuracy: 0.3333\n",
      "Epoch 10/50\n",
      "12/12 [==============================] - 17s 1s/step - loss: 1.1326 - accuracy: 0.3500 - val_loss: 1.1447 - val_accuracy: 0.3333\n",
      "Epoch 11/50\n",
      "12/12 [==============================] - 18s 2s/step - loss: 1.1527 - accuracy: 0.2875 - val_loss: 1.1203 - val_accuracy: 0.3333\n",
      "Epoch 12/50\n",
      "12/12 [==============================] - 16s 1s/step - loss: 1.1465 - accuracy: 0.3167 - val_loss: 1.1200 - val_accuracy: 0.3333\n",
      "Epoch 13/50\n",
      "12/12 [==============================] - 17s 1s/step - loss: 1.1510 - accuracy: 0.3500 - val_loss: 1.1805 - val_accuracy: 0.3333\n",
      "Epoch 14/50\n",
      "12/12 [==============================] - 17s 1s/step - loss: 1.1632 - accuracy: 0.3542 - val_loss: 1.1514 - val_accuracy: 0.3333\n",
      "Epoch 15/50\n",
      "12/12 [==============================] - 16s 1s/step - loss: 1.1429 - accuracy: 0.3000 - val_loss: 1.1013 - val_accuracy: 0.3333\n",
      "Epoch 16/50\n",
      "12/12 [==============================] - 16s 1s/step - loss: 1.1274 - accuracy: 0.2917 - val_loss: 1.1070 - val_accuracy: 0.3333\n",
      "Epoch 17/50\n",
      "12/12 [==============================] - 20s 2s/step - loss: 1.1302 - accuracy: 0.3000 - val_loss: 1.1246 - val_accuracy: 0.3333\n",
      "Epoch 18/50\n",
      "12/12 [==============================] - 20s 2s/step - loss: 1.1208 - accuracy: 0.3083 - val_loss: 1.1077 - val_accuracy: 0.3333\n",
      "Epoch 19/50\n",
      "12/12 [==============================] - 17s 1s/step - loss: 1.1105 - accuracy: 0.3292 - val_loss: 1.1191 - val_accuracy: 0.3333\n",
      "Epoch 20/50\n",
      "12/12 [==============================] - 17s 1s/step - loss: 1.1302 - accuracy: 0.2958 - val_loss: 1.1021 - val_accuracy: 0.3333\n",
      "Epoch 21/50\n",
      "12/12 [==============================] - 21s 2s/step - loss: 1.1119 - accuracy: 0.3458 - val_loss: 1.1250 - val_accuracy: 0.3333\n",
      "Epoch 22/50\n",
      "12/12 [==============================] - 19s 2s/step - loss: 1.1249 - accuracy: 0.3417 - val_loss: 1.1299 - val_accuracy: 0.3333\n",
      "Epoch 23/50\n",
      "12/12 [==============================] - 18s 2s/step - loss: 1.1444 - accuracy: 0.2875 - val_loss: 1.1167 - val_accuracy: 0.3333\n",
      "Epoch 24/50\n",
      "12/12 [==============================] - 21s 2s/step - loss: 1.1563 - accuracy: 0.3375 - val_loss: 1.2015 - val_accuracy: 0.3333\n",
      "Epoch 25/50\n",
      "12/12 [==============================] - 18s 2s/step - loss: 1.1256 - accuracy: 0.3375 - val_loss: 1.1254 - val_accuracy: 0.3333\n",
      "Epoch 26/50\n",
      "12/12 [==============================] - 18s 1s/step - loss: 1.1322 - accuracy: 0.2625 - val_loss: 1.1049 - val_accuracy: 0.3333\n",
      "Epoch 27/50\n",
      "12/12 [==============================] - 22s 2s/step - loss: 1.1334 - accuracy: 0.3042 - val_loss: 1.1205 - val_accuracy: 0.3333\n",
      "Epoch 28/50\n",
      "12/12 [==============================] - 21s 2s/step - loss: 1.1775 - accuracy: 0.2667 - val_loss: 1.0990 - val_accuracy: 0.3333\n",
      "Epoch 29/50\n",
      "12/12 [==============================] - 18s 2s/step - loss: 1.1380 - accuracy: 0.2833 - val_loss: 1.1194 - val_accuracy: 0.3333\n",
      "Epoch 30/50\n",
      "12/12 [==============================] - 18s 1s/step - loss: 1.1250 - accuracy: 0.3167 - val_loss: 1.1068 - val_accuracy: 0.3333\n",
      "Epoch 31/50\n",
      "12/12 [==============================] - 17s 1s/step - loss: 1.1165 - accuracy: 0.3208 - val_loss: 1.1190 - val_accuracy: 0.3333\n",
      "Epoch 32/50\n",
      "12/12 [==============================] - 19s 2s/step - loss: 1.1224 - accuracy: 0.3250 - val_loss: 1.1070 - val_accuracy: 0.3333\n",
      "Epoch 33/50\n",
      "12/12 [==============================] - 16s 1s/step - loss: 1.1110 - accuracy: 0.3083 - val_loss: 1.1122 - val_accuracy: 0.3333\n",
      "Epoch 34/50\n",
      "12/12 [==============================] - 19s 2s/step - loss: 1.1306 - accuracy: 0.3250 - val_loss: 1.0997 - val_accuracy: 0.3333\n",
      "Epoch 35/50\n",
      "12/12 [==============================] - 21s 2s/step - loss: 1.1495 - accuracy: 0.3000 - val_loss: 1.1353 - val_accuracy: 0.3333\n",
      "Epoch 36/50\n",
      "12/12 [==============================] - 17s 1s/step - loss: 1.1425 - accuracy: 0.2958 - val_loss: 1.1258 - val_accuracy: 0.3333\n",
      "Epoch 37/50\n",
      "12/12 [==============================] - 16s 1s/step - loss: 1.1449 - accuracy: 0.3208 - val_loss: 1.1081 - val_accuracy: 0.3333\n",
      "Epoch 38/50\n",
      "12/12 [==============================] - 16s 1s/step - loss: 1.1214 - accuracy: 0.3042 - val_loss: 1.1253 - val_accuracy: 0.3333\n",
      "Epoch 39/50\n",
      "12/12 [==============================] - 20s 2s/step - loss: 1.1792 - accuracy: 0.2583 - val_loss: 1.1572 - val_accuracy: 0.3333\n",
      "Epoch 40/50\n",
      "12/12 [==============================] - 19s 2s/step - loss: 1.1894 - accuracy: 0.2875 - val_loss: 1.1162 - val_accuracy: 0.3333\n",
      "Epoch 41/50\n",
      "12/12 [==============================] - 23s 2s/step - loss: 1.1437 - accuracy: 0.3375 - val_loss: 1.1244 - val_accuracy: 0.3333\n",
      "Epoch 42/50\n",
      "12/12 [==============================] - 19s 2s/step - loss: 1.1197 - accuracy: 0.3625 - val_loss: 1.1133 - val_accuracy: 0.3333\n",
      "Epoch 43/50\n",
      "12/12 [==============================] - 20s 2s/step - loss: 1.1752 - accuracy: 0.3083 - val_loss: 1.2958 - val_accuracy: 0.3333\n",
      "Epoch 44/50\n",
      "12/12 [==============================] - 18s 1s/step - loss: 1.2311 - accuracy: 0.3083 - val_loss: 1.1429 - val_accuracy: 0.3333\n",
      "Epoch 45/50\n",
      "12/12 [==============================] - 17s 1s/step - loss: 1.1738 - accuracy: 0.2792 - val_loss: 1.1006 - val_accuracy: 0.3333\n",
      "Epoch 46/50\n",
      "12/12 [==============================] - 20s 2s/step - loss: 1.1505 - accuracy: 0.3375 - val_loss: 1.1958 - val_accuracy: 0.3333\n",
      "Epoch 47/50\n",
      "12/12 [==============================] - 19s 2s/step - loss: 1.1210 - accuracy: 0.3750 - val_loss: 1.1717 - val_accuracy: 0.3333\n",
      "Epoch 48/50\n",
      "12/12 [==============================] - 19s 2s/step - loss: 1.1609 - accuracy: 0.2958 - val_loss: 1.1399 - val_accuracy: 0.3333\n",
      "Epoch 49/50\n",
      "12/12 [==============================] - 19s 2s/step - loss: 1.1245 - accuracy: 0.2875 - val_loss: 1.1041 - val_accuracy: 0.3333\n",
      "Epoch 50/50\n",
      "12/12 [==============================] - 19s 2s/step - loss: 1.1109 - accuracy: 0.2917 - val_loss: 1.1002 - val_accuracy: 0.3333\n"
     ]
    }
   ],
   "source": [
    "history = model2.fit(\n",
    "    train_generator,\n",
    "    epochs=50,\n",
    "    verbose=1,\n",
    "    validation_data=test_generator,\n",
    ")"
   ]
  },
  {
   "cell_type": "code",
   "execution_count": 46,
   "metadata": {},
   "outputs": [
    {
     "name": "stdout",
     "output_type": "stream",
     "text": [
      "0.3333333432674408\n",
      "0.2916666567325592\n"
     ]
    }
   ],
   "source": [
    "val_loss2 = history.history['val_loss']\n",
    "val_acc2 = history.history['val_accuracy']\n",
    "\n",
    "accuracy2 = history.history['accuracy']\n",
    "loss2 = history.history['loss']\n",
    "\n",
    "print(val_acc2[-1])\n",
    "print(accuracy2[-1])"
   ]
  },
  {
   "cell_type": "code",
   "execution_count": 47,
   "metadata": {},
   "outputs": [
    {
     "data": {
      "text/plain": [
       "<matplotlib.legend.Legend at 0x1d539be0070>"
      ]
     },
     "execution_count": 47,
     "metadata": {},
     "output_type": "execute_result"
    },
    {
     "data": {
      "image/png": "[encoded data removed]",
      "text/plain": [
       "<Figure size 432x288 with 1 Axes>"
      ]
     },
     "metadata": {
      "needs_background": "light"
     },
     "output_type": "display_data"
    },
    {
     "data": {
      "image/png": "[encoded data removed]",
      "text/plain": [
       "<Figure size 432x288 with 1 Axes>"
      ]
     },
     "metadata": {
      "needs_background": "light"
     },
     "output_type": "display_data"
    }
   ],
   "source": [
    "acc = accuracy2\n",
    "val_accuracy = val_acc2\n",
    "loss = loss2\n",
    "val_loss = val_loss2\n",
    "epochs = range(len(acc))\n",
    "\n",
    "plt.plot(epochs, acc, 'r', label='Training accuracy')\n",
    "plt.plot(epochs, val_accuracy, 'b', label='Validation accuracy')\n",
    "plt.title('Training and validation accuracy')\n",
    "\n",
    "plt.figure()\n",
    "\n",
    "plt.plot(epochs, loss, 'r', label='Training Loss')\n",
    "plt.plot(epochs, val_loss, 'b', label='Validation Loss')\n",
    "plt.title('Training and validation loss')\n",
    "plt.legend()"
   ]
  },
  {
   "cell_type": "code",
   "execution_count": null,
   "metadata": {},
   "outputs": [],
   "source": []
  }
 ],
 "metadata": {
  "kernelspec": {
   "display_name": "Python 3",
   "language": "python",
   "name": "python3"
  },
  "language_info": {
   "codemirror_mode": {
    "name": "ipython",
    "version": 3
   },
   "file_extension": ".py",
   "mimetype": "text/x-python",
   "name": "python",
   "nbconvert_exporter": "python",
   "pygments_lexer": "ipython3",
   "version": "3.8.3"
  }
 },
 "nbformat": 4,
 "nbformat_minor": 4
}
